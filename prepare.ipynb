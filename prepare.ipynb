{
 "cells": [
  {
   "cell_type": "code",
   "execution_count": 1,
   "id": "initial_id",
   "metadata": {
    "collapsed": true,
    "ExecuteTime": {
     "end_time": "2024-03-02T18:47:14.261704900Z",
     "start_time": "2024-03-02T18:47:14.261704900Z"
    }
   },
   "outputs": [],
   "source": [
    "import pickle\n",
    "import re"
   ]
  },
  {
   "cell_type": "code",
   "outputs": [],
   "source": [
    "with open('data/dataset.pkl', 'rb') as file:\n",
    "    dat = pickle.load(file)"
   ],
   "metadata": {
    "collapsed": false,
    "ExecuteTime": {
     "end_time": "2024-03-02T18:47:14.268542700Z",
     "start_time": "2024-03-02T18:47:14.261704900Z"
    }
   },
   "id": "10e745e333160698",
   "execution_count": 2
  },
  {
   "cell_type": "code",
   "outputs": [],
   "source": [
    "def clear_sub(text):\n",
    "    pattern = '[\\w\\s\\S]*\\:.'\n",
    "    return re.sub(pattern, '', text)"
   ],
   "metadata": {
    "collapsed": false,
    "ExecuteTime": {
     "end_time": "2024-03-02T18:47:14.490855100Z",
     "start_time": "2024-03-02T18:47:14.483645700Z"
    }
   },
   "id": "19a5bb5a179e6f29",
   "execution_count": 3
  },
  {
   "cell_type": "code",
   "outputs": [],
   "source": [
    "to_dataset = [[\n",
    "    {\"role\": \"system\", \"content\": \"You are Sheldon\"},\n",
    "    {\"role\": \"user\", \"content\": clear_sub(x['question'])},\n",
    "    {\"role\": \"assistant\", \"content\": clear_sub(x['answer'])}\n",
    "] for x in dat if x['label'] == 1]"
   ],
   "metadata": {
    "collapsed": false,
    "ExecuteTime": {
     "end_time": "2024-03-02T19:16:06.976514200Z",
     "start_time": "2024-03-02T19:16:05.896837100Z"
    }
   },
   "id": "27ea59d2ecc17295",
   "execution_count": 10
  },
  {
   "cell_type": "code",
   "outputs": [],
   "source": [
    "with open('data/chat_dataset.pkl', 'wb') as file:\n",
    "    pickle.dump(to_dataset, file)"
   ],
   "metadata": {
    "collapsed": false,
    "ExecuteTime": {
     "end_time": "2024-03-02T19:16:09.214837100Z",
     "start_time": "2024-03-02T19:16:09.193344900Z"
    }
   },
   "id": "dfd639b54cde218f",
   "execution_count": 11
  },
  {
   "cell_type": "code",
   "outputs": [],
   "source": [],
   "metadata": {
    "collapsed": false
   },
   "id": "78b7676476edef9d"
  }
 ],
 "metadata": {
  "kernelspec": {
   "display_name": "Python 3",
   "language": "python",
   "name": "python3"
  },
  "language_info": {
   "codemirror_mode": {
    "name": "ipython",
    "version": 2
   },
   "file_extension": ".py",
   "mimetype": "text/x-python",
   "name": "python",
   "nbconvert_exporter": "python",
   "pygments_lexer": "ipython2",
   "version": "2.7.6"
  }
 },
 "nbformat": 4,
 "nbformat_minor": 5
}
